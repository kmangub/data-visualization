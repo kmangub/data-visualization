{
  "nbformat": 4,
  "nbformat_minor": 0,
  "metadata": {
    "colab": {
      "name": "viz-a.ipynb",
      "provenance": [],
      "collapsed_sections": []
    },
    "kernelspec": {
      "name": "python3",
      "display_name": "Python 3"
    }
  },
  "cells": [
    {
      "cell_type": "markdown",
      "metadata": {
        "id": "4YDa1JcvGlHH"
      },
      "source": [
        "# Data Visualization A: Honey Production\n",
        "\n",
        "The Honey Production dataset shows the amount of honey is produced in that year. "
      ]
    },
    {
      "cell_type": "code",
      "metadata": {
        "id": "gcCU0ZUJpUTs"
      },
      "source": [
        "import matplotlib.pyplot as plt\n",
        "import seaborn as sns\n",
        "import pandas as pd"
      ],
      "execution_count": null,
      "outputs": []
    },
    {
      "cell_type": "code",
      "metadata": {
        "id": "zGk1pTAyqEIs",
        "colab": {
          "base_uri": "https://localhost:8080/",
          "height": 419
        },
        "outputId": "11c59f50-313d-4f44-be70-e2751c643b03"
      },
      "source": [
        "df = pd.read_csv('honeyproduction.csv')\n",
        "df.head(100)"
      ],
      "execution_count": null,
      "outputs": [
        {
          "output_type": "execute_result",
          "data": {
            "text/html": [
              "<div>\n",
              "<style scoped>\n",
              "    .dataframe tbody tr th:only-of-type {\n",
              "        vertical-align: middle;\n",
              "    }\n",
              "\n",
              "    .dataframe tbody tr th {\n",
              "        vertical-align: top;\n",
              "    }\n",
              "\n",
              "    .dataframe thead th {\n",
              "        text-align: right;\n",
              "    }\n",
              "</style>\n",
              "<table border=\"1\" class=\"dataframe\">\n",
              "  <thead>\n",
              "    <tr style=\"text-align: right;\">\n",
              "      <th></th>\n",
              "      <th>state</th>\n",
              "      <th>numcol</th>\n",
              "      <th>yieldpercol</th>\n",
              "      <th>totalprod</th>\n",
              "      <th>stocks</th>\n",
              "      <th>priceperlb</th>\n",
              "      <th>prodvalue</th>\n",
              "      <th>year</th>\n",
              "    </tr>\n",
              "  </thead>\n",
              "  <tbody>\n",
              "    <tr>\n",
              "      <th>0</th>\n",
              "      <td>AL</td>\n",
              "      <td>16000.0</td>\n",
              "      <td>71</td>\n",
              "      <td>1136000.0</td>\n",
              "      <td>159000.0</td>\n",
              "      <td>0.72</td>\n",
              "      <td>818000.0</td>\n",
              "      <td>1998</td>\n",
              "    </tr>\n",
              "    <tr>\n",
              "      <th>1</th>\n",
              "      <td>AZ</td>\n",
              "      <td>55000.0</td>\n",
              "      <td>60</td>\n",
              "      <td>3300000.0</td>\n",
              "      <td>1485000.0</td>\n",
              "      <td>0.64</td>\n",
              "      <td>2112000.0</td>\n",
              "      <td>1998</td>\n",
              "    </tr>\n",
              "    <tr>\n",
              "      <th>2</th>\n",
              "      <td>AR</td>\n",
              "      <td>53000.0</td>\n",
              "      <td>65</td>\n",
              "      <td>3445000.0</td>\n",
              "      <td>1688000.0</td>\n",
              "      <td>0.59</td>\n",
              "      <td>2033000.0</td>\n",
              "      <td>1998</td>\n",
              "    </tr>\n",
              "    <tr>\n",
              "      <th>3</th>\n",
              "      <td>CA</td>\n",
              "      <td>450000.0</td>\n",
              "      <td>83</td>\n",
              "      <td>37350000.0</td>\n",
              "      <td>12326000.0</td>\n",
              "      <td>0.62</td>\n",
              "      <td>23157000.0</td>\n",
              "      <td>1998</td>\n",
              "    </tr>\n",
              "    <tr>\n",
              "      <th>4</th>\n",
              "      <td>CO</td>\n",
              "      <td>27000.0</td>\n",
              "      <td>72</td>\n",
              "      <td>1944000.0</td>\n",
              "      <td>1594000.0</td>\n",
              "      <td>0.70</td>\n",
              "      <td>1361000.0</td>\n",
              "      <td>1998</td>\n",
              "    </tr>\n",
              "    <tr>\n",
              "      <th>...</th>\n",
              "      <td>...</td>\n",
              "      <td>...</td>\n",
              "      <td>...</td>\n",
              "      <td>...</td>\n",
              "      <td>...</td>\n",
              "      <td>...</td>\n",
              "      <td>...</td>\n",
              "      <td>...</td>\n",
              "    </tr>\n",
              "    <tr>\n",
              "      <th>95</th>\n",
              "      <td>IL</td>\n",
              "      <td>8000.0</td>\n",
              "      <td>61</td>\n",
              "      <td>488000.0</td>\n",
              "      <td>146000.0</td>\n",
              "      <td>1.17</td>\n",
              "      <td>571000.0</td>\n",
              "      <td>2000</td>\n",
              "    </tr>\n",
              "    <tr>\n",
              "      <th>96</th>\n",
              "      <td>IN</td>\n",
              "      <td>8000.0</td>\n",
              "      <td>65</td>\n",
              "      <td>520000.0</td>\n",
              "      <td>286000.0</td>\n",
              "      <td>1.03</td>\n",
              "      <td>536000.0</td>\n",
              "      <td>2000</td>\n",
              "    </tr>\n",
              "    <tr>\n",
              "      <th>97</th>\n",
              "      <td>IA</td>\n",
              "      <td>30000.0</td>\n",
              "      <td>67</td>\n",
              "      <td>2010000.0</td>\n",
              "      <td>1206000.0</td>\n",
              "      <td>0.68</td>\n",
              "      <td>1367000.0</td>\n",
              "      <td>2000</td>\n",
              "    </tr>\n",
              "    <tr>\n",
              "      <th>98</th>\n",
              "      <td>KS</td>\n",
              "      <td>15000.0</td>\n",
              "      <td>68</td>\n",
              "      <td>1020000.0</td>\n",
              "      <td>520000.0</td>\n",
              "      <td>0.91</td>\n",
              "      <td>928000.0</td>\n",
              "      <td>2000</td>\n",
              "    </tr>\n",
              "    <tr>\n",
              "      <th>99</th>\n",
              "      <td>KY</td>\n",
              "      <td>4000.0</td>\n",
              "      <td>48</td>\n",
              "      <td>192000.0</td>\n",
              "      <td>54000.0</td>\n",
              "      <td>1.35</td>\n",
              "      <td>259000.0</td>\n",
              "      <td>2000</td>\n",
              "    </tr>\n",
              "  </tbody>\n",
              "</table>\n",
              "<p>100 rows × 8 columns</p>\n",
              "</div>"
            ],
            "text/plain": [
              "   state    numcol  yieldpercol  ...  priceperlb   prodvalue  year\n",
              "0     AL   16000.0           71  ...        0.72    818000.0  1998\n",
              "1     AZ   55000.0           60  ...        0.64   2112000.0  1998\n",
              "2     AR   53000.0           65  ...        0.59   2033000.0  1998\n",
              "3     CA  450000.0           83  ...        0.62  23157000.0  1998\n",
              "4     CO   27000.0           72  ...        0.70   1361000.0  1998\n",
              "..   ...       ...          ...  ...         ...         ...   ...\n",
              "95    IL    8000.0           61  ...        1.17    571000.0  2000\n",
              "96    IN    8000.0           65  ...        1.03    536000.0  2000\n",
              "97    IA   30000.0           67  ...        0.68   1367000.0  2000\n",
              "98    KS   15000.0           68  ...        0.91    928000.0  2000\n",
              "99    KY    4000.0           48  ...        1.35    259000.0  2000\n",
              "\n",
              "[100 rows x 8 columns]"
            ]
          },
          "metadata": {
            "tags": []
          },
          "execution_count": 8
        }
      ]
    },
    {
      "cell_type": "markdown",
      "metadata": {
        "id": "dKRY2n1VHFiC"
      },
      "source": [
        "For the data visualization, we will be utilizing the totalprod, and the year. For our x values, we will have the year:"
      ]
    },
    {
      "cell_type": "code",
      "metadata": {
        "colab": {
          "base_uri": "https://localhost:8080/"
        },
        "id": "kyOnnCoX5zSJ",
        "outputId": "60964e3a-bc6e-4c03-ff46-24cbd5c5225f"
      },
      "source": [
        "x = df['year'].values\n",
        "x"
      ],
      "execution_count": null,
      "outputs": [
        {
          "output_type": "execute_result",
          "data": {
            "text/plain": [
              "array([1998, 1998, 1998, 1998, 1998, 1998, 1998, 1998, 1998, 1998, 1998,\n",
              "       1998, 1998, 1998, 1998, 1998, 1998, 1998, 1998, 1998, 1998, 1998,\n",
              "       1998, 1998, 1998, 1998, 1998, 1998, 1998, 1998, 1998, 1998, 1998,\n",
              "       1998, 1998, 1998, 1998, 1998, 1998, 1998, 1998, 1998, 1998, 1999,\n",
              "       1999, 1999, 1999, 1999, 1999, 1999, 1999, 1999, 1999, 1999, 1999,\n",
              "       1999, 1999, 1999, 1999, 1999, 1999, 1999, 1999, 1999, 1999, 1999,\n",
              "       1999, 1999, 1999, 1999, 1999, 1999, 1999, 1999, 1999, 1999, 1999,\n",
              "       1999, 1999, 1999, 1999, 1999, 1999, 1999, 1999, 1999, 2000, 2000,\n",
              "       2000, 2000, 2000, 2000, 2000, 2000, 2000, 2000, 2000, 2000, 2000,\n",
              "       2000, 2000, 2000, 2000, 2000, 2000, 2000, 2000, 2000, 2000, 2000,\n",
              "       2000, 2000, 2000, 2000, 2000, 2000, 2000, 2000, 2000, 2000, 2000,\n",
              "       2000, 2000, 2000, 2000, 2000, 2000, 2000, 2000, 2001, 2001, 2001,\n",
              "       2001, 2001, 2001, 2001, 2001, 2001, 2001, 2001, 2001, 2001, 2001,\n",
              "       2001, 2001, 2001, 2001, 2001, 2001, 2001, 2001, 2001, 2001, 2001,\n",
              "       2001, 2001, 2001, 2001, 2001, 2001, 2001, 2001, 2001, 2001, 2001,\n",
              "       2001, 2001, 2001, 2001, 2001, 2001, 2001, 2001, 2002, 2002, 2002,\n",
              "       2002, 2002, 2002, 2002, 2002, 2002, 2002, 2002, 2002, 2002, 2002,\n",
              "       2002, 2002, 2002, 2002, 2002, 2002, 2002, 2002, 2002, 2002, 2002,\n",
              "       2002, 2002, 2002, 2002, 2002, 2002, 2002, 2002, 2002, 2002, 2002,\n",
              "       2002, 2002, 2002, 2002, 2002, 2002, 2002, 2002, 2003, 2003, 2003,\n",
              "       2003, 2003, 2003, 2003, 2003, 2003, 2003, 2003, 2003, 2003, 2003,\n",
              "       2003, 2003, 2003, 2003, 2003, 2003, 2003, 2003, 2003, 2003, 2003,\n",
              "       2003, 2003, 2003, 2003, 2003, 2003, 2003, 2003, 2003, 2003, 2003,\n",
              "       2003, 2003, 2003, 2003, 2003, 2003, 2003, 2003, 2004, 2004, 2004,\n",
              "       2004, 2004, 2004, 2004, 2004, 2004, 2004, 2004, 2004, 2004, 2004,\n",
              "       2004, 2004, 2004, 2004, 2004, 2004, 2004, 2004, 2004, 2004, 2004,\n",
              "       2004, 2004, 2004, 2004, 2004, 2004, 2004, 2004, 2004, 2004, 2004,\n",
              "       2004, 2004, 2004, 2004, 2004, 2005, 2005, 2005, 2005, 2005, 2005,\n",
              "       2005, 2005, 2005, 2005, 2005, 2005, 2005, 2005, 2005, 2005, 2005,\n",
              "       2005, 2005, 2005, 2005, 2005, 2005, 2005, 2005, 2005, 2005, 2005,\n",
              "       2005, 2005, 2005, 2005, 2005, 2005, 2005, 2005, 2005, 2005, 2005,\n",
              "       2005, 2005, 2006, 2006, 2006, 2006, 2006, 2006, 2006, 2006, 2006,\n",
              "       2006, 2006, 2006, 2006, 2006, 2006, 2006, 2006, 2006, 2006, 2006,\n",
              "       2006, 2006, 2006, 2006, 2006, 2006, 2006, 2006, 2006, 2006, 2006,\n",
              "       2006, 2006, 2006, 2006, 2006, 2006, 2006, 2006, 2006, 2006, 2007,\n",
              "       2007, 2007, 2007, 2007, 2007, 2007, 2007, 2007, 2007, 2007, 2007,\n",
              "       2007, 2007, 2007, 2007, 2007, 2007, 2007, 2007, 2007, 2007, 2007,\n",
              "       2007, 2007, 2007, 2007, 2007, 2007, 2007, 2007, 2007, 2007, 2007,\n",
              "       2007, 2007, 2007, 2007, 2007, 2007, 2007, 2008, 2008, 2008, 2008,\n",
              "       2008, 2008, 2008, 2008, 2008, 2008, 2008, 2008, 2008, 2008, 2008,\n",
              "       2008, 2008, 2008, 2008, 2008, 2008, 2008, 2008, 2008, 2008, 2008,\n",
              "       2008, 2008, 2008, 2008, 2008, 2008, 2008, 2008, 2008, 2008, 2008,\n",
              "       2008, 2008, 2008, 2008, 2009, 2009, 2009, 2009, 2009, 2009, 2009,\n",
              "       2009, 2009, 2009, 2009, 2009, 2009, 2009, 2009, 2009, 2009, 2009,\n",
              "       2009, 2009, 2009, 2009, 2009, 2009, 2009, 2009, 2009, 2009, 2009,\n",
              "       2009, 2009, 2009, 2009, 2009, 2009, 2009, 2009, 2009, 2009, 2009,\n",
              "       2010, 2010, 2010, 2010, 2010, 2010, 2010, 2010, 2010, 2010, 2010,\n",
              "       2010, 2010, 2010, 2010, 2010, 2010, 2010, 2010, 2010, 2010, 2010,\n",
              "       2010, 2010, 2010, 2010, 2010, 2010, 2010, 2010, 2010, 2010, 2010,\n",
              "       2010, 2010, 2010, 2010, 2010, 2010, 2010, 2011, 2011, 2011, 2011,\n",
              "       2011, 2011, 2011, 2011, 2011, 2011, 2011, 2011, 2011, 2011, 2011,\n",
              "       2011, 2011, 2011, 2011, 2011, 2011, 2011, 2011, 2011, 2011, 2011,\n",
              "       2011, 2011, 2011, 2011, 2011, 2011, 2011, 2011, 2011, 2011, 2011,\n",
              "       2011, 2011, 2011, 2012, 2012, 2012, 2012, 2012, 2012, 2012, 2012,\n",
              "       2012, 2012, 2012, 2012, 2012, 2012, 2012, 2012, 2012, 2012, 2012,\n",
              "       2012, 2012, 2012, 2012, 2012, 2012, 2012, 2012, 2012, 2012, 2012,\n",
              "       2012, 2012, 2012, 2012, 2012, 2012, 2012, 2012, 2012, 2012])"
            ]
          },
          "metadata": {
            "tags": []
          },
          "execution_count": 59
        }
      ]
    },
    {
      "cell_type": "markdown",
      "metadata": {
        "id": "NzOInp8lHe6_"
      },
      "source": [
        "And our y values to be the total production:"
      ]
    },
    {
      "cell_type": "code",
      "metadata": {
        "colab": {
          "base_uri": "https://localhost:8080/"
        },
        "id": "QSdzlNBKHdj-",
        "outputId": "2d185124-d385-472b-d855-202d27644448"
      },
      "source": [
        "y = df['totalprod']\n",
        "y"
      ],
      "execution_count": null,
      "outputs": [
        {
          "output_type": "execute_result",
          "data": {
            "text/plain": [
              "0       1136000.0\n",
              "1       3300000.0\n",
              "2       3445000.0\n",
              "3      37350000.0\n",
              "4       1944000.0\n",
              "          ...    \n",
              "621      164000.0\n",
              "622     2542000.0\n",
              "623      288000.0\n",
              "624     4140000.0\n",
              "625     2550000.0\n",
              "Name: totalprod, Length: 626, dtype: float64"
            ]
          },
          "metadata": {
            "tags": []
          },
          "execution_count": 61
        }
      ]
    },
    {
      "cell_type": "markdown",
      "metadata": {
        "id": "BPa4lFslIGo9"
      },
      "source": [
        "Next, we will plot our x and y values:"
      ]
    },
    {
      "cell_type": "code",
      "metadata": {
        "colab": {
          "base_uri": "https://localhost:8080/",
          "height": 329
        },
        "id": "CQMO4RVH7PLB",
        "outputId": "23c02446-eb95-48dd-cf9a-0f3421b596ec"
      },
      "source": [
        "g = sns.barplot(x='year', y='totalprod', data = df, ci=None)\n",
        "plt.xticks(rotation=45)\n",
        "\n",
        "g.set(xlabel='Year', ylabel='Total Production (by ten thousands)')\n",
        "g.set_title('Honey Production by Year', fontsize=15)\n",
        "print()\n"
      ],
      "execution_count": null,
      "outputs": [
        {
          "output_type": "stream",
          "text": [
            "\n"
          ],
          "name": "stdout"
        },
        {
          "output_type": "display_data",
          "data": {
            "image/png": "[encoded data removed]",
            "text/plain": [
              "<Figure size 432x288 with 1 Axes>"
            ]
          },
          "metadata": {
            "tags": [],
            "needs_background": "light"
          }
        }
      ]
    },
    {
      "cell_type": "markdown",
      "metadata": {
        "id": "PWEE5pLCDhdU"
      },
      "source": [
        "As we can see, there's a slight decline in honey production throughout the years. "
      ]
    }
  ]
}